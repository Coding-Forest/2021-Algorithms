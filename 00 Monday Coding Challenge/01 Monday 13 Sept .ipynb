{
  "nbformat": 4,
  "nbformat_minor": 0,
  "metadata": {
    "colab": {
      "name": "01 Monday 13 Sept .ipynb",
      "provenance": [],
      "collapsed_sections": []
    },
    "kernelspec": {
      "name": "python3",
      "display_name": "Python 3"
    },
    "language_info": {
      "name": "python"
    }
  },
  "cells": [
    {
      "cell_type": "markdown",
      "metadata": {
        "id": "pLHtlOlC4qim"
      },
      "source": [
        "# 01. Number of Bits\n",
        "\n",
        "Given an integer n, return the number of 1 bits in n.\n",
        "\n",
        "- Constraints: ```0 ≤ n < 2 ** 31```\n",
        "\n",
        "<br />\n",
        "\n",
        "## **Binarise decimals**\n",
        "- ```format(number, \"b\")```\n"
      ]
    },
    {
      "cell_type": "code",
      "metadata": {
        "id": "gefqL4QM4pcw"
      },
      "source": [
        "class Solution:\n",
        "    def solve(self, number):\n",
        "        if (number >= 2**31):\n",
        "            pass\n",
        "        elif (number == 0):\n",
        "            return 0\n",
        "        else:     \n",
        "            num = str(format(number, \"b\"))\n",
        "            return len(num)"
      ],
      "execution_count": null,
      "outputs": []
    },
    {
      "cell_type": "markdown",
      "metadata": {
        "id": "fKWPzzzTRq_m"
      },
      "source": [
        "### 01. Review"
      ]
    },
    {
      "cell_type": "markdown",
      "metadata": {
        "id": "hw_wf68w5GsM"
      },
      "source": [
        "# 02. Narcissistic Number\n",
        "\n",
        "Given an integer n, return whether it is equal to the sum of its own digits raised to the power of the number of digits.\n",
        "## Split a word into letters\n",
        "- ```[char for char in word]```"
      ]
    },
    {
      "cell_type": "code",
      "metadata": {
        "id": "u2G1F55f7bNW"
      },
      "source": [
        "class Solution:\n",
        "    def solve(self, number):\n",
        "        digits = str(number)\n",
        "        digits = [digit for digit in digits]\n",
        "        print('digits', digits)\n",
        "        num_digits = len(digits)\n",
        "        \n",
        "        print('num_digits:', num_digits)\n",
        "        \n",
        "        nums = []\n",
        "\n",
        "        for digit in digits:\n",
        "            num = int(digit)\n",
        "            nums.append(num**num_digits)\n",
        "        \n",
        "        if (sum(nums) == number):\n",
        "            return True \n",
        "        else: \n",
        "            return False"
      ],
      "execution_count": null,
      "outputs": []
    },
    {
      "cell_type": "markdown",
      "metadata": {
        "id": "wmuKYLUxR5hy"
      },
      "source": [
        "### 02. Review"
      ]
    },
    {
      "cell_type": "markdown",
      "metadata": {
        "id": "L1ZVZa5Z76eM"
      },
      "source": [
        "# 03. Non-Decreasing Digits\n",
        "\n",
        "Given a positive integer n, return the largest integer smaller or equal to n where all digits are non-decreasing.   \n",
        "\n",
        "- Constraints ```0 < n < 2 ** 31 - 1```\n",
        "  - Hint: Try a few test cases and see what the result should be. Do you notice a pattern at the point where the number breaks the required condition?"
      ]
    },
    {
      "cell_type": "code",
      "metadata": {
        "id": "abPqSdya8f97"
      },
      "source": [
        ""
      ],
      "execution_count": null,
      "outputs": []
    },
    {
      "cell_type": "markdown",
      "metadata": {
        "id": "5gaHCInoR7TZ"
      },
      "source": [
        "### 03. Review"
      ]
    },
    {
      "cell_type": "markdown",
      "metadata": {
        "id": "qgygpzbu8gNc"
      },
      "source": [
        "# 04. List Partitioning with Inequality Relation\n",
        "\n",
        "Given a list of integers nums, we want to split the list into two non-empty sublists a and b such that every element in a is less than or equal to every element in b.\n",
        "\n",
        "Return the smallest length of a that is possible. You can assume that the solution exists.\n",
        "\n",
        "Constraints\n",
        "\n",
        "- ```n ≤ 100,000``` where ```n``` is the length of nums\n",
        "  - Hint 1: Note: a is always towards the left.\n",
        "  - Hint 2: Maintain LeftMax and RightMin while traversing from left to right. Find a index where ```LeftMax <= RightMin``` is happening."
      ]
    },
    {
      "cell_type": "code",
      "metadata": {
        "id": "Y1YWv0XoR9OM"
      },
      "source": [
        ""
      ],
      "execution_count": null,
      "outputs": []
    },
    {
      "cell_type": "markdown",
      "metadata": {
        "id": "GvU67lrrR88q"
      },
      "source": [
        "### 04. Review"
      ]
    }
  ]
}