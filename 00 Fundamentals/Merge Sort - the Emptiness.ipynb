{
  "nbformat": 4,
  "nbformat_minor": 0,
  "metadata": {
    "colab": {
      "name": "Merge Sort - the Emptiness.ipynb",
      "provenance": [],
      "collapsed_sections": []
    },
    "kernelspec": {
      "name": "python3",
      "display_name": "Python 3"
    },
    "language_info": {
      "name": "python"
    }
  },
  "cells": [
    {
      "cell_type": "markdown",
      "metadata": {
        "id": "9YSvSwqADj_g"
      },
      "source": [
        "# Merge Sort - the Emptiness"
      ]
    },
    {
      "cell_type": "code",
      "metadata": {
        "id": "6ilStTmEFbPz"
      },
      "source": [
        "import numpy as np"
      ],
      "execution_count": 2,
      "outputs": []
    },
    {
      "cell_type": "markdown",
      "metadata": {
        "id": "w8_tK2KlDi27"
      },
      "source": [
        "## Algorithmic Principle: the Order of Emptiness"
      ]
    },
    {
      "cell_type": "markdown",
      "metadata": {
        "id": "D_I1k9YYDhJm"
      },
      "source": [
        "\n",
        "\n",
        "- Let's say $A$ and $B$ are lists, and the following statement is a condition on the quantity of elements the lists must possess:\n",
        "\n",
        "$$A > 0 \\text{ and } B>0$$\n",
        "\n",
        "- This condition will be breached as soon as:\n",
        "  - $A=0$ or $B=0$\n",
        "- Meaning the rule is broken as soon as either of the list becomes empty.\n",
        "\n",
        "<br/>\n",
        "\n",
        "---\n",
        "\n",
        "<br/>\n",
        "\n",
        "So we can spot that the process of emptiness is gradual, and there is an order in that transition:\n",
        "\n",
        "- $A > 0 \\text{ and } B>0$: both lists full.\n",
        "- $A > 0 \\text{ or } B>0$: either of them is empty. Could be:\n",
        "  - $A = 0$ or\n",
        "  - $B = 0$\n",
        "- $A = 0 \\text{ and } B = 0$\n"
      ]
    },
    {
      "cell_type": "markdown",
      "metadata": {
        "id": "ak-ExTxXDsNw"
      },
      "source": [
        "# Chemistry of `while` and `pop`\n",
        "`while` is a powerful animal.   \n",
        "`pop` is an interesting one.   \n",
        "\n",
        "When they meet each other, they can do an interestingly powerful thing:\n",
        "- `pop` can keep `pop`ping `while` a certain condition is met.\n",
        "- In human langauge, this means that they can empty any list. \n"
      ]
    },
    {
      "cell_type": "markdown",
      "metadata": {
        "id": "oYhX7EhKGK6b"
      },
      "source": [
        "### While one list is NOT empty"
      ]
    },
    {
      "cell_type": "code",
      "metadata": {
        "colab": {
          "base_uri": "https://localhost:8080/"
        },
        "id": "ElC4g88AFThD",
        "outputId": "fcb424cf-66f1-4aba-fa07-e6ae2decedad"
      },
      "source": [
        "my_list = list(np.arange(1, 11, 1))\n",
        "my_list"
      ],
      "execution_count": 4,
      "outputs": [
        {
          "output_type": "execute_result",
          "data": {
            "text/plain": [
              "[1, 2, 3, 4, 5, 6, 7, 8, 9, 10]"
            ]
          },
          "metadata": {},
          "execution_count": 4
        }
      ]
    },
    {
      "cell_type": "code",
      "metadata": {
        "id": "og3R4ujcDgYu"
      },
      "source": [
        "def empty_list(my_list):\n",
        "    \n",
        "    your_list = []\n",
        "\n",
        "    while (len(my_list) > 0):              # in human languagae: means while [my_list] is NOT empty,\n",
        "        your_list.append(my_list.pop(-1))  # pop the last element from [my_list] and give it to [your_list]\n",
        "    \n",
        "    return my_list, your_list"
      ],
      "execution_count": 8,
      "outputs": []
    },
    {
      "cell_type": "code",
      "metadata": {
        "colab": {
          "base_uri": "https://localhost:8080/"
        },
        "id": "9VLkVJV-FosS",
        "outputId": "b662901c-bd31-4e1e-cbe8-7103fb82144e"
      },
      "source": [
        "my_list, your_list = empty_list(my_list)\n",
        "my_list, your_list"
      ],
      "execution_count": 9,
      "outputs": [
        {
          "output_type": "execute_result",
          "data": {
            "text/plain": [
              "([], [10, 9, 8, 7, 6, 5, 4, 3, 2, 1])"
            ]
          },
          "metadata": {},
          "execution_count": 9
        }
      ]
    },
    {
      "cell_type": "markdown",
      "metadata": {
        "id": "RLDOyYzEGMt_"
      },
      "source": [
        "### While two lists are both NOT empty"
      ]
    },
    {
      "cell_type": "code",
      "metadata": {
        "id": "cuUiASprGMYC"
      },
      "source": [
        "def empty_either_list(my_list1, my_list2):\n",
        "    \n",
        "    list1 = []\n",
        "    list2 = []\n",
        "    \n",
        "    i = 0\n",
        "    while len(my_list1) > 0 and len(my_list2) > 0:   # while [my_list1] and [my_list2] are both not empty, \n",
        "        if (my_list2[i] % 2 == 1):\n",
        "            list2.append(my_list2.pop(0))            \n",
        "        else:\n",
        "            list1.append(my_list1.pop(0))\n",
        "        i += 1\n",
        "        \n",
        "        if i > (len(my_list1)-1) or i > (len(my_list)-1):\n",
        "            i = 0\n",
        "    \n",
        "    return list1, list2"
      ],
      "execution_count": 49,
      "outputs": []
    },
    {
      "cell_type": "code",
      "metadata": {
        "colab": {
          "base_uri": "https://localhost:8080/"
        },
        "id": "Q__LchdYHT1-",
        "outputId": "335f4b4e-e1a1-4284-e8a4-bd608f88c602"
      },
      "source": [
        "factors_2 = list(np.arange(2, 21, 2))\n",
        "factors_3 = list(np.arange(3, 31, 3))\n",
        "\n",
        "factors_2, factors_3"
      ],
      "execution_count": 50,
      "outputs": [
        {
          "output_type": "execute_result",
          "data": {
            "text/plain": [
              "([2, 4, 6, 8, 10, 12, 14, 16, 18, 20], [3, 6, 9, 12, 15, 18, 21, 24, 27, 30])"
            ]
          },
          "metadata": {},
          "execution_count": 50
        }
      ]
    },
    {
      "cell_type": "markdown",
      "metadata": {
        "id": "vw3P0M5iMvLg"
      },
      "source": [
        "Either of the list got emptied (`factors_2`) so the code broke out of `while` that `pop`s."
      ]
    },
    {
      "cell_type": "code",
      "metadata": {
        "colab": {
          "base_uri": "https://localhost:8080/"
        },
        "id": "4ULF_lUhHeKp",
        "outputId": "e34cd5a1-139f-413c-f6b7-8ca9996cf05b"
      },
      "source": [
        "print(factors_2, factors_3)\n",
        "\n",
        "print(empty_either_list(factors_2, factors_3))\n",
        "\n",
        "print(factors_2, factors_3)"
      ],
      "execution_count": 51,
      "outputs": [
        {
          "output_type": "stream",
          "name": "stdout",
          "text": [
            "[2, 4, 6, 8, 10, 12, 14, 16, 18, 20] [3, 6, 9, 12, 15, 18, 21, 24, 27, 30]\n",
            "([2, 4, 6, 8, 10, 12, 14, 16, 18, 20], [3])\n",
            "[] [6, 9, 12, 15, 18, 21, 24, 27, 30]\n"
          ]
        }
      ]
    }
  ]
}
