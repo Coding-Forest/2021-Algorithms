{
  "nbformat": 4,
  "nbformat_minor": 0,
  "metadata": {
    "colab": {
      "name": "ALGO 03 Lists 02 Linked Lists.ipynb",
      "provenance": [],
      "collapsed_sections": []
    },
    "kernelspec": {
      "name": "python3",
      "display_name": "Python 3"
    },
    "language_info": {
      "name": "python"
    }
  },
  "cells": [
    {
      "cell_type": "markdown",
      "metadata": {
        "id": "3x9nq9P9guQD"
      },
      "source": [
        "# 3.3 Linked Lists\n",
        "\n",
        "- Similar to (vector)array, but elements aren't indexed.\n",
        "  - Instead, elements in linked lists (called $nodes$ or $units$) store which element in list is next (nodes are \"linked\")\n",
        "- Makes adding or removing elements anywhere in the list computationally efficient $(O(1))$\n",
        "  - However, this accessing approach is $O(n)$ in worst case.\n",
        "  - It is the linear time complexity.\n",
        "  - Not a built-in Python data structure.\n",
        "  - Not common in ML; could be used for parsing lists with undefined length then converted to array before input into ML model."
      ]
    },
    {
      "cell_type": "code",
      "metadata": {
        "id": "GLqAFM4Sj29v",
        "colab": {
          "base_uri": "https://localhost:8080/",
          "height": 81
        },
        "outputId": "70fdf7ed-ec24-41a4-83cf-4cb8239a8dac"
      },
      "source": [
        "show_img(\"/content/here/MyDrive/Data and Algorithms/ALGO03/Singly-linked-list.svg.png\", resize=0.5, source=\"Wikipedia\")"
      ],
      "execution_count": null,
      "outputs": [
        {
          "output_type": "display_data",
          "data": {
            "text/html": [
              "<style> pre { white-space: pre-wrap; } </style>"
            ],
            "text/plain": [
              "<IPython.core.display.HTML object>"
            ]
          },
          "metadata": {}
        },
        {
          "output_type": "display_data",
          "data": {
            "image/png": "[encoded data removed]",
            "text/plain": [
              "<PIL.Image.Image image mode=RGB size=640x64 at 0x7F4BBC52ABD0>"
            ]
          },
          "metadata": {}
        }
      ]
    },
    {
      "cell_type": "markdown",
      "metadata": {
        "id": "rrVFN66LkSKC"
      },
      "source": [
        "# 3.4 Doubly-Linked Lists\n",
        "- Nodes storeo which is next and which precdes it. \n",
        "- Enables traversal in either direction.\n",
        "- Same time complexities as singly linked lists"
      ]
    },
    {
      "cell_type": "code",
      "metadata": {
        "id": "8YlLDowrkTM7",
        "colab": {
          "base_uri": "https://localhost:8080/",
          "height": 64
        },
        "outputId": "4a2b792c-5aa6-4c44-aa51-fc362b1ce5b9"
      },
      "source": [
        "show_img(\"/content/here/MyDrive/Data and Algorithms/ALGO03/Doubly-linked-list.svg.png\", resize=0.55, source=\"Wikipedia\")"
      ],
      "execution_count": null,
      "outputs": [
        {
          "output_type": "display_data",
          "data": {
            "text/html": [
              "<style> pre { white-space: pre-wrap; } </style>"
            ],
            "text/plain": [
              "<IPython.core.display.HTML object>"
            ]
          },
          "metadata": {}
        },
        {
          "output_type": "display_data",
          "data": {
            "image/png": "[encoded data removed]",
            "text/plain": [
              "<PIL.Image.Image image mode=RGB size=704x47 at 0x7F4BBC525710>"
            ]
          },
          "metadata": {}
        }
      ]
    },
    {
      "cell_type": "markdown",
      "metadata": {
        "id": "O3KHteJ9OshX"
      },
      "source": [
        "References\n",
        "\n",
        "My algorithm learning notebook following the live lesson series [**\"Data Structures, Algorithms, and Machine Learning Optimization\"**](https://learning.oreilly.com/videos/data-structures-algorithms/9780137644889/) by Dr. Jon Krohn. I adapted some and partially modified or added entirely new code. Notes largely based on and (some of them entirely) from Jon's notebooks and learning materials. The lesson and original notebook source code at:\n",
        "\n",
        "https://learning.oreilly.com/videos/data-structures-algorithms/9780137644889/\n",
        "https://github.com/jonkrohn/ML-foundations/blob/master/notebooks/7-algos-and-data-structures.ipynb"
      ]
    }
  ]
}